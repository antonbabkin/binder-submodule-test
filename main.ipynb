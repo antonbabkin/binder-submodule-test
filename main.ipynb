{
 "cells": [
  {
   "cell_type": "code",
   "execution_count": null,
   "id": "cb614e54-d0ec-4df2-ac32-ece3417b98ac",
   "metadata": {
    "tags": []
   },
   "outputs": [],
   "source": [
    "import ipywidgets\n",
    "b = ipywidgets.Button(description='Click')\n",
    "def f(x): x.description += '!'\n",
    "b.on_click(f)\n",
    "b"
   ]
  },
  {
   "cell_type": "code",
   "execution_count": null,
   "id": "5a37a2a4-afcd-4e16-bb36-40cce26cb680",
   "metadata": {
    "tags": []
   },
   "outputs": [],
   "source": [
    "from reseng.reseng import config\n",
    "print(str(config.Paths().root))"
   ]
  }
 ],
 "metadata": {
  "kernelspec": {
   "display_name": "Python 3",
   "language": "python",
   "name": "python3"
  },
  "language_info": {
   "codemirror_mode": {
    "name": "ipython",
    "version": 3
   },
   "file_extension": ".py",
   "mimetype": "text/x-python",
   "name": "python",
   "nbconvert_exporter": "python",
   "pygments_lexer": "ipython3",
   "version": "3.9.6"
  }
 },
 "nbformat": 4,
 "nbformat_minor": 5
}
